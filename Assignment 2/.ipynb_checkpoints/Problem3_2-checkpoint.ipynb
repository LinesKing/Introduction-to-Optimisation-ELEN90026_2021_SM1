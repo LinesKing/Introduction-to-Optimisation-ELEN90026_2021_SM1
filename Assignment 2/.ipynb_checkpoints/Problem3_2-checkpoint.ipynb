{
 "cells": [
  {
   "cell_type": "code",
   "execution_count": null,
   "id": "royal-nudist",
   "metadata": {},
   "outputs": [],
   "source": [
    "from numpy import array, dot\n",
    "from qpsolvers import solve_qp\n",
    "\n",
    "## Problem 3.(2)\n",
    "# Define parameters\n",
    "delta = (-0.1, 0., 0.1)\n",
    "P = array([[2., -1.], [-1., 4.]])\n",
    "q = array([[-1., 0.]]).reshape((2,))\n",
    "G = array([[1., 2.], [1., -4.], [5., 76.]])\n",
    "\n",
    "for i in range(len(delta)):\n",
    "    for j in range(len(delta)):\n",
    "        h = array([-2.+delta[i], -3.+delta[j], 1.]).reshape((3,))\n",
    "\n",
    "        # Solve QP\n",
    "        x = solve_qp(P, q, G, h)\n",
    "        p = 1 / 2 * dot(dot(x, P), x) + dot(q, x)\n",
    "\n",
    "        print(\"\")\n",
    "        print(\"delta1 = {}, delta2 = {}\".format(delta[i], delta[j]))\n",
    "        print(\"QP solution: x* = {}\".format(x))\n",
    "        print(\"QP solution: p* = {}\".format(p))\n",
    "\n",
    "for i in range(len(delta)):\n",
    "    for j in range(len(delta)):\n",
    "        pp = 8.2222 - 1.916*delta[i] - 3.4571*delta[j]\n",
    "\n",
    "        print(\"\")\n",
    "        print(\"delta1 = {}, delta2 = {}\".format(delta[i], delta[j]))\n",
    "        print(\"QP solution: p^ = {}\".format(pp))"
   ]
  }
 ],
 "metadata": {
  "kernelspec": {
   "display_name": "Python 3",
   "language": "python",
   "name": "python3"
  },
  "language_info": {
   "codemirror_mode": {
    "name": "ipython",
    "version": 3
   },
   "file_extension": ".py",
   "mimetype": "text/x-python",
   "name": "python",
   "nbconvert_exporter": "python",
   "pygments_lexer": "ipython3",
   "version": "3.8.8"
  }
 },
 "nbformat": 4,
 "nbformat_minor": 5
}
