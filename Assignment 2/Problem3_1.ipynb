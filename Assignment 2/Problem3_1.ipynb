{
 "cells": [
  {
   "cell_type": "code",
   "execution_count": 1,
   "id": "solved-valley",
   "metadata": {},
   "outputs": [
    {
     "name": "stdout",
     "output_type": "stream",
     "text": [
      "Duals\n",
      "   Constraint ineqconstr1\n",
      "       None 1.9159178751092296\n",
      "   Constraint ineqconstr2\n",
      "       None 3.457111978173363\n",
      "   Constraint ineqconstr3\n",
      "       None 0.09206068673322129\n",
      "x[0] -2.333333311006375\n",
      "x[1] 0.16666666493594995\n",
      "obj 8.222222086789483\n"
     ]
    },
    {
     "data": {
      "text/plain": [
       "[-2.333333311006375, 0.16666666493594995, 8.222222086789483]"
      ]
     },
     "execution_count": 1,
     "metadata": {},
     "output_type": "execute_result"
    }
   ],
   "source": [
    "import pyomo.environ as pyo\n",
    "\n",
    "## Problem 3.(1)\n",
    "# A quadratic program\n",
    "model = pyo.AbstractModel()\n",
    "model.name = 'QP'\n",
    "\n",
    "# Note variables\n",
    "model.x = pyo.Var(range(2))\n",
    "\n",
    "# Define model and constrains\n",
    "def QP(model):\n",
    "    return model.x[0] ** 2 + 2 * model.x[1] ** 2 - model.x[0] * model.x[1] - model.x[0]\n",
    "\n",
    "\n",
    "def ineqconstr1(model):\n",
    "    return model.x[0] + 2 * model.x[1] <= -2\n",
    "\n",
    "\n",
    "def ineqconstr2(model):\n",
    "    return model.x[0] - 4 * model.x[1] <= -3\n",
    "\n",
    "\n",
    "def ineqconstr3(model):\n",
    "    return 5 * model.x[0] + 76 * model.x[1] <= 1\n",
    "\n",
    "\n",
    "model.obj = pyo.Objective(rule=QP, sense=pyo.minimize)\n",
    "model.ineqconstr1 = pyo.Constraint(rule=ineqconstr1)\n",
    "model.ineqconstr2 = pyo.Constraint(rule=ineqconstr2)\n",
    "model.ineqconstr3 = pyo.Constraint(rule=ineqconstr3)\n",
    "\n",
    "# Create an instance of the problem\n",
    "qp = model.create_instance()\n",
    "\n",
    "# Lagrange multipliers (dual variables)\n",
    "qp.dual = pyo.Suffix(direction=pyo.Suffix.IMPORT)\n",
    "\n",
    "# Define solver\n",
    "opt = pyo.SolverFactory('ipopt')\n",
    "\n",
    "# Show results\n",
    "results = opt.solve(qp)\n",
    "\n",
    "\n",
    "def display_lagrange(instance):\n",
    "    # display all duals\n",
    "    print(\"Duals\")\n",
    "    for c in instance.component_objects(pyo.Constraint, active=True):\n",
    "        print(\"   Constraint\", c)\n",
    "        for index in c:\n",
    "            print(\"      \", index, -instance.dual[c[index]])\n",
    "\n",
    "\n",
    "display_lagrange(qp)\n",
    "\n",
    "\n",
    "def disp_soln(instance):\n",
    "    output = []\n",
    "    for v in instance.component_data_objects(pyo.Var, active=True):\n",
    "        output.append(pyo.value(v))\n",
    "        print(v, pyo.value(v))\n",
    "    print(instance.obj, pyo.value(instance.obj))\n",
    "    output.append(pyo.value(instance.obj))\n",
    "    return output\n",
    "\n",
    "\n",
    "disp_soln(qp)\n"
   ]
  }
 ],
 "metadata": {
  "kernelspec": {
   "display_name": "Python 3",
   "language": "python",
   "name": "python3"
  },
  "language_info": {
   "codemirror_mode": {
    "name": "ipython",
    "version": 3
   },
   "file_extension": ".py",
   "mimetype": "text/x-python",
   "name": "python",
   "nbconvert_exporter": "python",
   "pygments_lexer": "ipython3",
   "version": "3.8.8"
  }
 },
 "nbformat": 4,
 "nbformat_minor": 5
}
