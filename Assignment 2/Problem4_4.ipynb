{
 "cells": [
  {
   "cell_type": "code",
   "execution_count": 67,
   "id": "moral-independence",
   "metadata": {},
   "outputs": [],
   "source": [
    "from scipy.sparse import random\n",
    "import numpy as np\n",
    "from qpsolvers import solve_qp\n",
    "import matplotlib.pyplot as plt\n",
    "import cvxpy as cp\n",
    "from IPython.display import Markdown, display\n",
    "\n",
    "## Problem 4.(4)\n",
    "# Define parameters\n",
    "n = 100  # nodes\n",
    "m = 10  # edges\n",
    "\n",
    "np.random.seed(5615234)\n",
    "A = random(n, m, density=0.02).A  # sparse matrix A\n",
    "for i in range(n):\n",
    "    for j in range(m):\n",
    "        if A[i, j] > 0.5:  # to call a ndarray type A, use A[0,0]\n",
    "            A[i, j] = 1\n",
    "        elif A[i, j] > 0:\n",
    "            A[i, j] = -1\n",
    "\n",
    "np.random.seed(2922963)\n",
    "x = random(m, 1, density=0.3).A\n",
    "np.random.seed(2648157)\n",
    "y = random(m, 1, density=0.5).A\n",
    "\n",
    "s = A.dot(x)\n",
    "t = A.dot(y)\n",
    "\n",
    "# sSumNonZero = (s!=0).sum()  # check nonzero elements\n",
    "# tSumNonZero = (t!=0).sum()  # check nonzero elements\n",
    "\n",
    "# Define primal variables\n",
    "x = np.zeros((m, 1))\n",
    "y = np.zeros((m, 1))\n",
    "\n",
    "# Define dual variables\n",
    "lambda1 = np.zeros((n, 1))\n",
    "lambda2 = np.zeros((n, 1))\n",
    "mu1 = np.zeros((m, 1))\n",
    "mu2 = np.zeros((m, 1))\n",
    "\n",
    "# Dual decomposition\n",
    "iterMax = 150\n",
    "p = []  # primal optimal\n",
    "q = []  # dual optimal\n",
    "\n",
    "\n",
    "# Define argmin_x,y F(x) for step 1 of distributed algorithm\n",
    "def argminxy(delta1, delta2):\n",
    "    P = np.array([[2.2, 2.], [2., 2.2]])\n",
    "    q = np.array([[delta1, delta2]]).reshape((2,))\n",
    "    G = np.array([[-1., 0.], [0., -1.]])\n",
    "    h = np.array([0., 0.]).reshape((2,))\n",
    "\n",
    "    # Solve QP\n",
    "    x = solve_qp(P, q, G, h)\n",
    "    # p = 1 / 2 * np.dot(np.dot(x, P), x) + np.dot(q, x)\n",
    "    return x[0], x[1]\n",
    "\n",
    "\n",
    "# Dual decomposition\n",
    "for i in range(iterMax):\n",
    "    # Step 1: calculate x_min and y_min\n",
    "    delta1 = A.transpose().dot(lambda1)\n",
    "    delta2 = A.transpose().dot(lambda2)\n",
    "    for j in range(m):\n",
    "        x[j, 0], y[j, 0] = argminxy(delta1[j, 0], delta2[j, 0])\n",
    "\n",
    "    # Step 2: calculate p and q\n",
    "    lag = sum((x + y) ** 2) + 0.1 * sum(x ** 2 + y ** 2) \\\n",
    "        + lambda1.transpose().dot(-s + A.dot(x)) + lambda2.transpose().dot(-t + A.dot(y))\n",
    "    q = np.append(q, lag)\n",
    "    f = sum((x + y) ** 2) + 0.1 * sum(x ** 2 + y ** 2)\n",
    "    p = np.append(p, f)\n",
    "\n",
    "    # Step 3: update dual variables with subgradient method\n",
    "    alphak = 0.1  # step size\n",
    "    lambda1 = lambda1 + alphak * (-s + A.dot(x))\n",
    "    lambda2 = lambda2 + alphak * (-t + A.dot(y))"
   ]
  },
  {
   "cell_type": "markdown",
   "id": "theoretical-combination",
   "metadata": {},
   "source": [
    "## Primal optimal"
   ]
  },
  {
   "cell_type": "code",
   "execution_count": 68,
   "id": "prerequisite-carol",
   "metadata": {},
   "outputs": [
    {
     "data": {
      "text/markdown": [
       "$x^*$"
      ],
      "text/plain": [
       "<IPython.core.display.Markdown object>"
      ]
     },
     "metadata": {},
     "output_type": "display_data"
    },
    {
     "data": {
      "text/plain": [
       "array([[ 0.699 , -0.    ,  0.3331, -0.    ,  0.    ,  0.    ,  0.    ,\n",
       "         0.    ,  0.7548, -0.    ]])"
      ]
     },
     "metadata": {},
     "output_type": "display_data"
    },
    {
     "data": {
      "text/markdown": [
       "$y^*$"
      ],
      "text/plain": [
       "<IPython.core.display.Markdown object>"
      ]
     },
     "metadata": {},
     "output_type": "display_data"
    },
    {
     "data": {
      "text/plain": [
       "array([[ 0.    , -0.    ,  0.9302, -0.    ,  0.0525,  0.7741,  0.8917,\n",
       "         0.4702,  0.    , -0.    ]])"
      ]
     },
     "metadata": {},
     "output_type": "display_data"
    },
    {
     "data": {
      "text/markdown": [
       "$p^*$"
      ],
      "text/plain": [
       "<IPython.core.display.Markdown object>"
      ]
     },
     "metadata": {},
     "output_type": "display_data"
    },
    {
     "data": {
      "text/plain": [
       "4.64"
      ]
     },
     "metadata": {},
     "output_type": "display_data"
    }
   ],
   "source": [
    "display(Markdown(r\"$x^*$\"))\n",
    "display(np.round(x.T,4))\n",
    "display(Markdown(r\"$y^*$\"))\n",
    "display(np.round(y.T,4))\n",
    "display(Markdown(r\"$p^*$\"))\n",
    "display(np.round(p[-1],2))"
   ]
  },
  {
   "cell_type": "markdown",
   "id": "secret-senate",
   "metadata": {},
   "source": [
    "## Dual optimal"
   ]
  },
  {
   "cell_type": "code",
   "execution_count": 69,
   "id": "welsh-raleigh",
   "metadata": {
    "scrolled": false
   },
   "outputs": [
    {
     "data": {
      "text/markdown": [
       "$\\lambda_1^*$"
      ],
      "text/plain": [
       "<IPython.core.display.Markdown object>"
      ]
     },
     "metadata": {},
     "output_type": "display_data"
    },
    {
     "data": {
      "text/plain": [
       "array([[ 0.8644,  0.    ,  0.    ,  0.5535, -0.8644,  0.    ,  0.    ,\n",
       "         0.    ,  0.    ,  0.    ,  0.    ,  0.    ,  0.    ,  0.    ,\n",
       "         0.    ,  0.    , -0.3845,  0.    ,  0.    ,  0.    ,  0.    ,\n",
       "         0.    ,  0.    ,  0.    ,  0.    ,  0.    ,  0.    ,  0.    ,\n",
       "         0.    ,  0.    ,  0.    ,  0.    ,  0.    ,  0.    ,  0.    ,\n",
       "         0.    ,  0.    ,  0.    ,  0.    ,  0.    ,  0.    ,  0.    ,\n",
       "         0.    ,  0.    ,  0.    ,  0.    ,  0.    ,  0.    , -0.    ,\n",
       "         0.    ,  0.    ,  0.    ,  0.    ,  0.    ,  0.    ,  0.    ,\n",
       "         0.    ,  0.    , -0.    ,  0.    ,  0.    ,  0.    ,  0.    ,\n",
       "         0.    , -0.    ,  0.    ,  0.3845,  0.    , -0.5535,  0.    ,\n",
       "         0.    ,  0.    ,  0.    ,  0.    ,  0.    ,  0.    ,  0.    ,\n",
       "         0.5535,  0.    ,  0.    ,  0.    ,  0.    ,  0.    ,  0.    ,\n",
       "         0.    ,  0.    ,  0.3845, -0.8644,  0.    , -0.3845,  0.    ,\n",
       "         0.    ,  0.    ,  0.    ,  0.    ,  0.    ,  0.    ,  0.    ,\n",
       "         0.    ,  0.    ]])"
      ]
     },
     "metadata": {},
     "output_type": "display_data"
    },
    {
     "data": {
      "text/markdown": [
       "$\\lambda_2^*$"
      ],
      "text/plain": [
       "<IPython.core.display.Markdown object>"
      ]
     },
     "metadata": {},
     "output_type": "display_data"
    },
    {
     "data": {
      "text/plain": [
       "array([[ 0.5518,  0.    ,  0.    ,  0.    , -1.0805,  0.    ,  0.    ,\n",
       "         0.    ,  0.    ,  0.    ,  0.    ,  0.    ,  0.    ,  0.    ,\n",
       "         0.    ,  0.    ,  0.    ,  0.    ,  0.    ,  0.    ,  0.    ,\n",
       "         0.    ,  0.    ,  0.    ,  0.    ,  0.    ,  0.    ,  0.    ,\n",
       "         0.    ,  0.    ,  0.    ,  0.    ,  0.    ,  0.    ,  0.    ,\n",
       "         0.    ,  0.    ,  0.    ,  0.    ,  0.    ,  0.    ,  0.    ,\n",
       "         0.    ,  0.    ,  0.    ,  0.    ,  0.    ,  0.0577,  0.5287,\n",
       "         0.    ,  0.    ,  0.    ,  0.    ,  0.    ,  0.    ,  0.    ,\n",
       "         0.    ,  0.    ,  1.7032,  0.    ,  0.    ,  0.    ,  0.    ,\n",
       "         0.    ,  1.9617,  0.    ,  0.    ,  0.    , -0.    ,  0.    ,\n",
       "         0.    ,  0.    ,  0.    ,  0.    ,  0.    ,  0.    ,  0.    ,\n",
       "         0.    ,  0.    ,  0.    ,  0.    ,  0.    ,  0.    ,  0.    ,\n",
       "         0.    , -0.5287,  0.5287, -1.0805,  0.    ,  0.    ,  0.    ,\n",
       "         0.    ,  0.    ,  0.    ,  0.    ,  0.    ,  0.    ,  0.    ,\n",
       "         0.    ,  0.0577]])"
      ]
     },
     "metadata": {},
     "output_type": "display_data"
    },
    {
     "data": {
      "text/markdown": [
       "$p^*$"
      ],
      "text/plain": [
       "<IPython.core.display.Markdown object>"
      ]
     },
     "metadata": {},
     "output_type": "display_data"
    },
    {
     "data": {
      "text/plain": [
       "4.64"
      ]
     },
     "metadata": {},
     "output_type": "display_data"
    }
   ],
   "source": [
    "display(Markdown(r\"$\\lambda_1^*$\"))\n",
    "display(np.round(lambda1.T,4))\n",
    "display(Markdown(r\"$\\lambda_2^*$\"))\n",
    "display(np.round(lambda2.T,4))\n",
    "display(Markdown(r\"$p^*$\"))\n",
    "display(np.round(q[-1],2))"
   ]
  },
  {
   "cell_type": "code",
   "execution_count": 70,
   "id": "casual-catalog",
   "metadata": {},
   "outputs": [
    {
     "data": {
      "image/png": "[encoded data removed]",
      "text/plain": [
       "<Figure size 432x288 with 1 Axes>"
      ]
     },
     "metadata": {
      "needs_background": "light"
     },
     "output_type": "display_data"
    },
    {
     "data": {
      "image/png": "[encoded data removed]",
      "text/plain": [
       "<Figure size 432x288 with 1 Axes>"
      ]
     },
     "metadata": {
      "needs_background": "light"
     },
     "output_type": "display_data"
    }
   ],
   "source": [
    "plt.figure()\n",
    "plt.plot(np.arange(0, iterMax, 1), p)\n",
    "plt.hlines(p[-1], 0, iterMax, colors='r', linestyles='--')\n",
    "plt.xlabel('iteration')\n",
    "plt.ylabel('p')\n",
    "plt.title('Primal optimisation value versus iteration k')\n",
    "plt.show()\n",
    "\n",
    "plt.figure()\n",
    "plt.plot(np.arange(0, iterMax, 1), q)\n",
    "plt.hlines(q[-1], 0, iterMax, colors='r', linestyles='--')\n",
    "plt.xlabel('iteration')\n",
    "plt.ylabel('q')\n",
    "plt.title('Dual optimisation value versus iteration k')\n",
    "plt.show()"
   ]
  }
 ],
 "metadata": {
  "kernelspec": {
   "display_name": "Python 3",
   "language": "python",
   "name": "python3"
  },
  "language_info": {
   "codemirror_mode": {
    "name": "ipython",
    "version": 3
   },
   "file_extension": ".py",
   "mimetype": "text/x-python",
   "name": "python",
   "nbconvert_exporter": "python",
   "pygments_lexer": "ipython3",
   "version": "3.8.8"
  }
 },
 "nbformat": 4,
 "nbformat_minor": 5
}
